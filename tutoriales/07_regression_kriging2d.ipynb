{
 "cells": [
  {
   "cell_type": "markdown",
   "metadata": {},
   "source": [
    "\n",
    "# Regression kriging\n",
    "\n",
    "An example of regression kriging\n"
   ]
  },
  {
   "cell_type": "code",
   "execution_count": 1,
   "metadata": {
    "collapsed": false
   },
   "outputs": [
    {
     "name": "stdout",
     "output_type": "stream",
     "text": [
      "========================================\n",
      "regression model: SVR\n",
      "Finished learning regression model\n",
      "Finished kriging residuals\n",
      "Regression Score:  -0.03405385545698292\n",
      "RK score:  0.6706182225388981\n",
      "========================================\n",
      "regression model: RandomForestRegressor\n",
      "Finished learning regression model\n",
      "Finished kriging residuals\n",
      "Regression Score:  0.6982530126719754\n",
      "RK score:  0.7346094387537208\n",
      "========================================\n",
      "regression model: LinearRegression\n",
      "Finished learning regression model\n",
      "Finished kriging residuals\n",
      "Regression Score:  0.5277968398381674\n",
      "RK score:  0.6036605153133716\n"
     ]
    }
   ],
   "source": [
    "import sys\n",
    "\n",
    "from sklearn.datasets import fetch_california_housing\n",
    "from sklearn.ensemble import RandomForestRegressor\n",
    "from sklearn.linear_model import LinearRegression\n",
    "from sklearn.model_selection import train_test_split\n",
    "from sklearn.svm import SVR\n",
    "\n",
    "from pykrige.rk import RegressionKriging\n",
    "\n",
    "svr_model = SVR(C=0.1, gamma=\"auto\")\n",
    "rf_model = RandomForestRegressor(n_estimators=100)\n",
    "lr_model = LinearRegression(copy_X=True, fit_intercept=False)\n",
    "\n",
    "models = [svr_model, rf_model, lr_model]\n",
    "\n",
    "try:\n",
    "    housing = fetch_california_housing()\n",
    "except PermissionError:\n",
    "    # this dataset can occasionally fail to download on Windows\n",
    "    sys.exit(0)\n",
    "\n",
    "# take the first 5000 as Kriging is memory intensive\n",
    "p = housing[\"data\"][:5000, :-2]\n",
    "x = housing[\"data\"][:5000, -2:]\n",
    "target = housing[\"target\"][:5000]\n",
    "\n",
    "p_train, p_test, x_train, x_test, target_train, target_test = train_test_split(\n",
    "    p, x, target, test_size=0.3, random_state=42\n",
    ")\n",
    "\n",
    "for m in models:\n",
    "    print(\"=\" * 40)\n",
    "    print(\"regression model:\", m.__class__.__name__)\n",
    "    m_rk = RegressionKriging(regression_model=m, n_closest_points=10)\n",
    "    m_rk.fit(p_train, x_train, target_train)\n",
    "    print(\"Regression Score: \", m_rk.regression_model.score(p_test, target_test))\n",
    "    print(\"RK score: \", m_rk.score(p_test, x_test, target_test))"
   ]
  }
 ],
 "metadata": {
  "kernelspec": {
   "display_name": "Python 3",
   "language": "python",
   "name": "python3"
  },
  "language_info": {
   "codemirror_mode": {
    "name": "ipython",
    "version": 3
   },
   "file_extension": ".py",
   "mimetype": "text/x-python",
   "name": "python",
   "nbconvert_exporter": "python",
   "pygments_lexer": "ipython3",
   "version": "3.12.1"
  }
 },
 "nbformat": 4,
 "nbformat_minor": 0
}
